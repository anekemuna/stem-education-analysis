{
 "cells": [
  {
   "cell_type": "code",
   "execution_count": 1,
   "id": "85af9d40",
   "metadata": {},
   "outputs": [],
   "source": [
    "## Import Needed Libraries\n",
    "\n",
    "import pandas as pd\n",
    "import numpy as np\n",
    "import seaborn as sns\n",
    "import math\n",
    "import plotly.express as px\n",
    "import plotly.graph_objects as go\n",
    "from plotly.subplots import make_subplots\n",
    "import matplotlib.pyplot as plt"
   ]
  },
  {
   "cell_type": "code",
   "execution_count": 2,
   "id": "6f3354fb",
   "metadata": {},
   "outputs": [
    {
     "name": "stdout",
     "output_type": "stream",
     "text": [
      "(520, 9)\n"
     ]
    },
    {
     "data": {
      "text/plain": [
       "Index(['NATMON_IND', 'Indicator', 'LOCATION', 'Country', 'TIME', 'Time',\n",
       "       'Value', 'Flag Codes', 'Flags'],\n",
       "      dtype='object')"
      ]
     },
     "execution_count": 2,
     "metadata": {},
     "output_type": "execute_result"
    }
   ],
   "source": [
    "file_path = \"UNESCO_Tertiary_Graduates_by_field.csv\"\n",
    "\n",
    "df = pd.read_csv(file_path)\n",
    "df.head(30)\n",
    "print(df.shape)\n",
    "\n",
    "df.columns"
   ]
  },
  {
   "cell_type": "code",
   "execution_count": 3,
   "id": "8379231a",
   "metadata": {},
   "outputs": [
    {
     "data": {
      "text/html": [
       "<div>\n",
       "<style scoped>\n",
       "    .dataframe tbody tr th:only-of-type {\n",
       "        vertical-align: middle;\n",
       "    }\n",
       "\n",
       "    .dataframe tbody tr th {\n",
       "        vertical-align: top;\n",
       "    }\n",
       "\n",
       "    .dataframe thead th {\n",
       "        text-align: right;\n",
       "    }\n",
       "</style>\n",
       "<table border=\"1\" class=\"dataframe\">\n",
       "  <thead>\n",
       "    <tr style=\"text-align: right;\">\n",
       "      <th></th>\n",
       "      <th>Country</th>\n",
       "      <th>Time</th>\n",
       "      <th>Value</th>\n",
       "    </tr>\n",
       "  </thead>\n",
       "  <tbody>\n",
       "    <tr>\n",
       "      <th>0</th>\n",
       "      <td>Cambodia</td>\n",
       "      <td>2019</td>\n",
       "      <td>23.20</td>\n",
       "    </tr>\n",
       "    <tr>\n",
       "      <th>1</th>\n",
       "      <td>Argentina</td>\n",
       "      <td>2018</td>\n",
       "      <td>16.05</td>\n",
       "    </tr>\n",
       "    <tr>\n",
       "      <th>2</th>\n",
       "      <td>Argentina</td>\n",
       "      <td>2019</td>\n",
       "      <td>15.42</td>\n",
       "    </tr>\n",
       "    <tr>\n",
       "      <th>3</th>\n",
       "      <td>Argentina</td>\n",
       "      <td>2020</td>\n",
       "      <td>14.15</td>\n",
       "    </tr>\n",
       "    <tr>\n",
       "      <th>4</th>\n",
       "      <td>Argentina</td>\n",
       "      <td>2021</td>\n",
       "      <td>15.04</td>\n",
       "    </tr>\n",
       "    <tr>\n",
       "      <th>5</th>\n",
       "      <td>Mozambique</td>\n",
       "      <td>2017</td>\n",
       "      <td>9.03</td>\n",
       "    </tr>\n",
       "    <tr>\n",
       "      <th>6</th>\n",
       "      <td>Mozambique</td>\n",
       "      <td>2018</td>\n",
       "      <td>9.56</td>\n",
       "    </tr>\n",
       "    <tr>\n",
       "      <th>7</th>\n",
       "      <td>Republic of Korea</td>\n",
       "      <td>2017</td>\n",
       "      <td>29.34</td>\n",
       "    </tr>\n",
       "    <tr>\n",
       "      <th>8</th>\n",
       "      <td>Republic of Korea</td>\n",
       "      <td>2019</td>\n",
       "      <td>29.61</td>\n",
       "    </tr>\n",
       "    <tr>\n",
       "      <th>9</th>\n",
       "      <td>Republic of Korea</td>\n",
       "      <td>2020</td>\n",
       "      <td>30.18</td>\n",
       "    </tr>\n",
       "    <tr>\n",
       "      <th>10</th>\n",
       "      <td>Republic of Korea</td>\n",
       "      <td>2021</td>\n",
       "      <td>30.39</td>\n",
       "    </tr>\n",
       "    <tr>\n",
       "      <th>11</th>\n",
       "      <td>Republic of Korea</td>\n",
       "      <td>2022</td>\n",
       "      <td>30.42</td>\n",
       "    </tr>\n",
       "    <tr>\n",
       "      <th>12</th>\n",
       "      <td>Serbia</td>\n",
       "      <td>2017</td>\n",
       "      <td>26.64</td>\n",
       "    </tr>\n",
       "    <tr>\n",
       "      <th>13</th>\n",
       "      <td>Serbia</td>\n",
       "      <td>2018</td>\n",
       "      <td>28.13</td>\n",
       "    </tr>\n",
       "    <tr>\n",
       "      <th>14</th>\n",
       "      <td>Serbia</td>\n",
       "      <td>2019</td>\n",
       "      <td>28.35</td>\n",
       "    </tr>\n",
       "    <tr>\n",
       "      <th>15</th>\n",
       "      <td>Serbia</td>\n",
       "      <td>2020</td>\n",
       "      <td>30.47</td>\n",
       "    </tr>\n",
       "    <tr>\n",
       "      <th>16</th>\n",
       "      <td>Serbia</td>\n",
       "      <td>2021</td>\n",
       "      <td>30.10</td>\n",
       "    </tr>\n",
       "    <tr>\n",
       "      <th>17</th>\n",
       "      <td>Serbia</td>\n",
       "      <td>2022</td>\n",
       "      <td>29.82</td>\n",
       "    </tr>\n",
       "    <tr>\n",
       "      <th>18</th>\n",
       "      <td>Greece</td>\n",
       "      <td>2017</td>\n",
       "      <td>29.40</td>\n",
       "    </tr>\n",
       "    <tr>\n",
       "      <th>19</th>\n",
       "      <td>Greece</td>\n",
       "      <td>2018</td>\n",
       "      <td>28.27</td>\n",
       "    </tr>\n",
       "    <tr>\n",
       "      <th>20</th>\n",
       "      <td>Greece</td>\n",
       "      <td>2019</td>\n",
       "      <td>27.34</td>\n",
       "    </tr>\n",
       "    <tr>\n",
       "      <th>21</th>\n",
       "      <td>Greece</td>\n",
       "      <td>2020</td>\n",
       "      <td>27.42</td>\n",
       "    </tr>\n",
       "    <tr>\n",
       "      <th>22</th>\n",
       "      <td>Greece</td>\n",
       "      <td>2021</td>\n",
       "      <td>27.50</td>\n",
       "    </tr>\n",
       "    <tr>\n",
       "      <th>23</th>\n",
       "      <td>Algeria</td>\n",
       "      <td>2018</td>\n",
       "      <td>34.23</td>\n",
       "    </tr>\n",
       "    <tr>\n",
       "      <th>24</th>\n",
       "      <td>Algeria</td>\n",
       "      <td>2019</td>\n",
       "      <td>32.43</td>\n",
       "    </tr>\n",
       "    <tr>\n",
       "      <th>25</th>\n",
       "      <td>Algeria</td>\n",
       "      <td>2020</td>\n",
       "      <td>29.58</td>\n",
       "    </tr>\n",
       "    <tr>\n",
       "      <th>26</th>\n",
       "      <td>Algeria</td>\n",
       "      <td>2021</td>\n",
       "      <td>30.13</td>\n",
       "    </tr>\n",
       "    <tr>\n",
       "      <th>27</th>\n",
       "      <td>Algeria</td>\n",
       "      <td>2022</td>\n",
       "      <td>29.89</td>\n",
       "    </tr>\n",
       "    <tr>\n",
       "      <th>28</th>\n",
       "      <td>Cyprus</td>\n",
       "      <td>2017</td>\n",
       "      <td>14.97</td>\n",
       "    </tr>\n",
       "    <tr>\n",
       "      <th>29</th>\n",
       "      <td>Cyprus</td>\n",
       "      <td>2018</td>\n",
       "      <td>15.15</td>\n",
       "    </tr>\n",
       "  </tbody>\n",
       "</table>\n",
       "</div>"
      ],
      "text/plain": [
       "              Country  Time  Value\n",
       "0            Cambodia  2019  23.20\n",
       "1           Argentina  2018  16.05\n",
       "2           Argentina  2019  15.42\n",
       "3           Argentina  2020  14.15\n",
       "4           Argentina  2021  15.04\n",
       "5          Mozambique  2017   9.03\n",
       "6          Mozambique  2018   9.56\n",
       "7   Republic of Korea  2017  29.34\n",
       "8   Republic of Korea  2019  29.61\n",
       "9   Republic of Korea  2020  30.18\n",
       "10  Republic of Korea  2021  30.39\n",
       "11  Republic of Korea  2022  30.42\n",
       "12             Serbia  2017  26.64\n",
       "13             Serbia  2018  28.13\n",
       "14             Serbia  2019  28.35\n",
       "15             Serbia  2020  30.47\n",
       "16             Serbia  2021  30.10\n",
       "17             Serbia  2022  29.82\n",
       "18             Greece  2017  29.40\n",
       "19             Greece  2018  28.27\n",
       "20             Greece  2019  27.34\n",
       "21             Greece  2020  27.42\n",
       "22             Greece  2021  27.50\n",
       "23            Algeria  2018  34.23\n",
       "24            Algeria  2019  32.43\n",
       "25            Algeria  2020  29.58\n",
       "26            Algeria  2021  30.13\n",
       "27            Algeria  2022  29.89\n",
       "28             Cyprus  2017  14.97\n",
       "29             Cyprus  2018  15.15"
      ]
     },
     "execution_count": 3,
     "metadata": {},
     "output_type": "execute_result"
    }
   ],
   "source": [
    "columns_to_drop = ['NATMON_IND', 'Indicator', 'LOCATION', 'TIME', 'Flag Codes', 'Flags']\n",
    "\n",
    "df.head(30)\n",
    "\n",
    "df = df.drop(columns=columns_to_drop)\n",
    "\n",
    "#df_17 = df[df['Time'] == 2017].copy()\n",
    "\n",
    "# Round values to 2 decimal places\n",
    "df.loc[:, 'Value'] = df['Value'].round(2)\n",
    "\n",
    "df.head(30)"
   ]
  },
  {
   "cell_type": "code",
   "execution_count": 4,
   "id": "15b3e83e",
   "metadata": {},
   "outputs": [
    {
     "name": "stdout",
     "output_type": "stream",
     "text": [
      "2023: (4, 3)\n",
      "2022: (48, 3)\n",
      "2021: (86, 3)\n",
      "2020: (101, 3)\n",
      "2019: (101, 3)\n",
      "2018: (93, 3)\n",
      "2017: (87, 3)\n"
     ]
    }
   ],
   "source": [
    "df_23 = df[df['Time'] == 2023]\n",
    "print(\"2023:\", df_23.shape)\n",
    "\n",
    "df_22 = df[df['Time'] == 2022]\n",
    "print(\"2022:\", df_22.shape)\n",
    "\n",
    "df_21 = df[df['Time'] == 2021]\n",
    "print(\"2021:\", df_21.shape)\n",
    "\n",
    "df_20 = df[df['Time'] == 2020]\n",
    "print(\"2020:\", df_20.shape)\n",
    "\n",
    "df_19 = df[df['Time'] == 2019]\n",
    "print(\"2019:\", df_19.shape)\n",
    "\n",
    "df_18 = df[df['Time'] == 2018]\n",
    "print(\"2018:\", df_18.shape)\n",
    "\n",
    "df_17 = df[df['Time'] == 2017]\n",
    "print(\"2017:\", df_17.shape)"
   ]
  },
  {
   "cell_type": "markdown",
   "id": "0ab8f28a",
   "metadata": {},
   "source": [
    "## Percentage of Graduates from STEM Programmes in Tertiary Education by Country and Year"
   ]
  },
  {
   "cell_type": "code",
   "execution_count": 9,
   "id": "064c4e9e",
   "metadata": {},
   "outputs": [
    {
     "data": {
      "application/vnd.plotly.v1+json": {
       "config": {
        "plotlyServerURL": "https://plot.ly"
       },
       "data": [
        {
         "colorbar": {
          "title": {
           "text": "Value"
          }
         },
         "colorscale": [
          [
           0,
           "#0d0887"
          ],
          [
           0.1111111111111111,
           "#46039f"
          ],
          [
           0.2222222222222222,
           "#7201a8"
          ],
          [
           0.3333333333333333,
           "#9c179e"
          ],
          [
           0.4444444444444444,
           "#bd3786"
          ],
          [
           0.5555555555555556,
           "#d8576b"
          ],
          [
           0.6666666666666666,
           "#ed7953"
          ],
          [
           0.7777777777777778,
           "#fb9f3a"
          ],
          [
           0.8888888888888888,
           "#fdca26"
          ],
          [
           1,
           "#f0f921"
          ]
         ],
         "geo": "geo",
         "locationmode": "country names",
         "locations": [
          "Mozambique",
          "Republic of Korea",
          "Serbia",
          "Greece",
          "Cyprus",
          "Indonesia",
          "Singapore",
          "Azerbaijan",
          "Malta",
          "Poland",
          "Bulgaria",
          "North Macedonia",
          "Honduras",
          "Congo",
          "Netherlands",
          "Estonia",
          "Mongolia",
          "Madagascar",
          "Croatia",
          "Samoa",
          "Maldives",
          "Seychelles",
          "South Africa",
          "Hungary",
          "Lao People's Democratic Republic",
          "Colombia",
          "Bermuda",
          "Spain",
          "Czechia",
          "Bangladesh",
          "Slovenia",
          "Georgia",
          "Saudi Arabia",
          "Lithuania",
          "Burkina Faso",
          "Latvia",
          "Sweden",
          "Denmark",
          "New Zealand",
          "Monaco",
          "Morocco",
          "Germany",
          "Albania",
          "Chile",
          "India",
          "Palestine",
          "Belgium",
          "Portugal",
          "Qatar",
          "El Salvador",
          "Cabo Verde",
          "Uzbekistan",
          "Namibia",
          "Andorra",
          "Kyrgyzstan",
          "China, Macao Special Administrative Region",
          "Costa Rica",
          "Bahrain",
          "Mexico",
          "Slovakia",
          "Russian Federation",
          "Burundi",
          "Ukraine",
          "Oman",
          "Australia",
          "Switzerland",
          "Finland",
          "Grenada",
          "Belarus",
          "Norway",
          "United Arab Emirates",
          "Brazil",
          "Bosnia and Herzegovina",
          "Iran (Islamic Republic of)",
          "Sint Maarten (Dutch part)",
          "Kazakhstan",
          "Armenia",
          "Niger",
          "Ghana",
          "Dominican Republic",
          "Rwanda",
          "Peru",
          "Tajikistan",
          "Uruguay",
          "Philippines",
          "Mauritius",
          "Sri Lanka"
         ],
         "showscale": false,
         "type": "choropleth",
         "z": [
          9.03,
          29.34,
          26.64,
          29.4,
          14.97,
          18.55,
          34.93,
          23.61,
          20.31,
          22.94,
          20.51,
          21.89,
          15.02,
          15.13,
          16.62,
          28.84,
          21.55,
          22.96,
          27.01,
          9.32,
          5.11,
          15.7,
          18.57,
          23.26,
          16.86,
          23.66,
          20.44,
          23.45,
          23.86,
          11.28,
          26.61,
          21.88,
          21.91,
          25.67,
          15.42,
          20.87,
          27.5,
          20.98,
          21.18,
          null,
          19.05,
          35.55,
          19.35,
          20.47,
          32.64,
          15.83,
          16.7,
          29.09,
          22.93,
          22.28,
          16.42,
          31.51,
          12.12,
          3.53,
          20.45,
          7.57,
          14.4,
          15.59,
          25.24,
          21.17,
          29.96,
          20.63,
          24.22,
          46.27,
          18.43,
          24.85,
          27.25,
          12.98,
          33.23,
          22.1,
          27.73,
          17.73,
          20.31,
          42.13,
          2.78,
          23.18,
          14.72,
          13.22,
          13.39,
          11.55,
          13.75,
          29.64,
          22.04,
          17.45,
          28.74,
          23.31,
          25.86
         ]
        },
        {
         "colorbar": {
          "title": {
           "text": "Value"
          }
         },
         "colorscale": [
          [
           0,
           "#0d0887"
          ],
          [
           0.1111111111111111,
           "#46039f"
          ],
          [
           0.2222222222222222,
           "#7201a8"
          ],
          [
           0.3333333333333333,
           "#9c179e"
          ],
          [
           0.4444444444444444,
           "#bd3786"
          ],
          [
           0.5555555555555556,
           "#d8576b"
          ],
          [
           0.6666666666666666,
           "#ed7953"
          ],
          [
           0.7777777777777778,
           "#fb9f3a"
          ],
          [
           0.8888888888888888,
           "#fdca26"
          ],
          [
           1,
           "#f0f921"
          ]
         ],
         "geo": "geo2",
         "locationmode": "country names",
         "locations": [
          "Argentina",
          "Mozambique",
          "Serbia",
          "Greece",
          "Algeria",
          "Cyprus",
          "Indonesia",
          "Tunisia",
          "Austria",
          "Singapore",
          "Azerbaijan",
          "Poland",
          "Ireland",
          "Bulgaria",
          "North Macedonia",
          "Honduras",
          "Malaysia",
          "Netherlands",
          "Estonia",
          "Mongolia",
          "Italy",
          "Lesotho",
          "Madagascar",
          "Ecuador",
          "France",
          "Croatia",
          "Samoa",
          "Türkiye",
          "Seychelles",
          "Puerto Rico",
          "South Africa",
          "Hungary",
          "Liechtenstein",
          "Lao People's Democratic Republic",
          "Colombia",
          "Bermuda",
          "Spain",
          "Czechia",
          "Republic of Moldova",
          "Slovenia",
          "Georgia",
          "Saudi Arabia",
          "Iceland",
          "Lithuania",
          "Burkina Faso",
          "Latvia",
          "Sweden",
          "Denmark",
          "New Zealand",
          "Monaco",
          "Germany",
          "Albania",
          "Chile",
          "India",
          "Palestine",
          "Belgium",
          "Qatar",
          "El Salvador",
          "Cabo Verde",
          "Uzbekistan",
          "Brunei Darussalam",
          "Namibia",
          "Andorra",
          "Kyrgyzstan",
          "China, Macao Special Administrative Region",
          "Costa Rica",
          "Canada",
          "Bahrain",
          "Slovakia",
          "Russian Federation",
          "Burundi",
          "Ukraine",
          "Oman",
          "Australia",
          "Switzerland",
          "Finland",
          "Grenada",
          "Belarus",
          "Norway",
          "Brazil",
          "Bosnia and Herzegovina",
          "Iran (Islamic Republic of)",
          "Luxembourg",
          "Kazakhstan",
          "Armenia",
          "Niger",
          "Ghana",
          "Rwanda",
          "Benin",
          "Uruguay",
          "Philippines",
          "Myanmar",
          "Sri Lanka"
         ],
         "showscale": false,
         "type": "choropleth",
         "z": [
          16.05,
          9.56,
          28.13,
          28.27,
          34.23,
          15.15,
          19.42,
          43.25,
          31.03,
          34.72,
          23.52,
          21.65,
          24.1,
          19.28,
          23.57,
          15.2,
          40.77,
          17.45,
          27.73,
          25.34,
          24.2,
          15.36,
          23.84,
          9.38,
          25.39,
          26.33,
          9.32,
          19.44,
          17.23,
          18.15,
          18.28,
          22.52,
          19.63,
          22.46,
          23.13,
          38.03,
          22.27,
          26.12,
          23.48,
          27.23,
          21.24,
          21.14,
          18.59,
          26.82,
          19.68,
          20.17,
          26.64,
          22.2,
          21.38,
          null,
          35.31,
          20.63,
          20.95,
          32.65,
          15.42,
          16.99,
          22.55,
          21.43,
          16.13,
          35.16,
          39.23,
          12.88,
          13.46,
          20.79,
          7.66,
          15.46,
          22.38,
          16.15,
          22.07,
          31.06,
          19.67,
          25.28,
          46.15,
          17.4,
          25.21,
          28.12,
          15.68,
          33.86,
          21.81,
          18.37,
          21.22,
          40.2,
          18.82,
          24.84,
          15.17,
          10.42,
          16.37,
          16.27,
          20.91,
          18.98,
          23.86,
          33.67,
          24.28
         ]
        },
        {
         "colorbar": {
          "title": {
           "text": "Value"
          }
         },
         "colorscale": [
          [
           0,
           "#0d0887"
          ],
          [
           0.1111111111111111,
           "#46039f"
          ],
          [
           0.2222222222222222,
           "#7201a8"
          ],
          [
           0.3333333333333333,
           "#9c179e"
          ],
          [
           0.4444444444444444,
           "#bd3786"
          ],
          [
           0.5555555555555556,
           "#d8576b"
          ],
          [
           0.6666666666666666,
           "#ed7953"
          ],
          [
           0.7777777777777778,
           "#fb9f3a"
          ],
          [
           0.8888888888888888,
           "#fdca26"
          ],
          [
           1,
           "#f0f921"
          ]
         ],
         "geo": "geo3",
         "locationmode": "country names",
         "locations": [
          "Cambodia",
          "Argentina",
          "Republic of Korea",
          "Serbia",
          "Greece",
          "Algeria",
          "Cyprus",
          "Austria",
          "Singapore",
          "United States of America",
          "Azerbaijan",
          "Malta",
          "Poland",
          "Ireland",
          "Bulgaria",
          "Honduras",
          "Malaysia",
          "Netherlands",
          "Estonia",
          "Mongolia",
          "Italy",
          "Montserrat",
          "Madagascar",
          "Romania",
          "Ecuador",
          "France",
          "Croatia",
          "Samoa",
          "Türkiye",
          "Maldives",
          "Seychelles",
          "South Africa",
          "Hungary",
          "Liechtenstein",
          "Lao People's Democratic Republic",
          "Colombia",
          "Czechia",
          "Republic of Moldova",
          "Bangladesh",
          "Slovenia",
          "Georgia",
          "Saudi Arabia",
          "Iceland",
          "Lithuania",
          "Burkina Faso",
          "Latvia",
          "Sweden",
          "Denmark",
          "New Zealand",
          "Monaco",
          "Morocco",
          "Germany",
          "Albania",
          "Chile",
          "India",
          "Palestine",
          "Belgium",
          "United Kingdom of Great Britain and Northern Ireland",
          "Portugal",
          "Qatar",
          "El Salvador",
          "Uzbekistan",
          "Brunei Darussalam",
          "Namibia",
          "Andorra",
          "Kyrgyzstan",
          "China, Macao Special Administrative Region",
          "Panama",
          "Costa Rica",
          "Canada",
          "Bahrain",
          "Mexico",
          "Slovakia",
          "Russian Federation",
          "Ukraine",
          "Cuba",
          "Oman",
          "Australia",
          "Switzerland",
          "Finland",
          "Belarus",
          "Norway",
          "United Arab Emirates",
          "Brazil",
          "Bosnia and Herzegovina",
          "Iran (Islamic Republic of)",
          "Luxembourg",
          "Kazakhstan",
          "Armenia",
          "Niger",
          "Ghana",
          "Rwanda",
          "Benin",
          "United Republic of Tanzania",
          "Uruguay",
          "Philippines",
          "Marshall Islands",
          "Montenegro",
          "Fiji",
          "Sri Lanka",
          "Trinidad and Tobago"
         ],
         "showscale": false,
         "type": "choropleth",
         "z": [
          23.2,
          15.42,
          29.61,
          28.35,
          27.34,
          32.43,
          13.59,
          31.4,
          35.4,
          19.23,
          25.91,
          17.13,
          20.81,
          25.31,
          19.82,
          15.73,
          39.17,
          18.58,
          27.91,
          23.15,
          24.48,
          null,
          29.09,
          30.01,
          16.24,
          25.77,
          27.27,
          8.08,
          18.36,
          3.59,
          19.85,
          18.33,
          23.35,
          18.06,
          23.14,
          24.63,
          25.86,
          24.76,
          11.15,
          27.97,
          24.56,
          22.03,
          20.21,
          27.27,
          20.26,
          19.93,
          27.32,
          22.54,
          22.99,
          null,
          18.95,
          36.78,
          18.82,
          20.57,
          32.17,
          14.67,
          17.55,
          26.25,
          27.99,
          24.23,
          21.85,
          34.48,
          40.14,
          12.79,
          13.58,
          19.71,
          7.57,
          16.46,
          15.11,
          25.05,
          15.59,
          25.83,
          21.82,
          31.36,
          25.05,
          20.84,
          44.5,
          18.63,
          25.35,
          28.38,
          34.68,
          20.95,
          30.98,
          18.53,
          23.52,
          39.14,
          18.96,
          24.73,
          17.14,
          12.34,
          16.41,
          12.96,
          23.96,
          9.5,
          17.22,
          23.82,
          null,
          20.45,
          17.15,
          25.39,
          25.42
         ]
        },
        {
         "colorbar": {
          "title": {
           "text": "Value"
          }
         },
         "colorscale": [
          [
           0,
           "#0d0887"
          ],
          [
           0.1111111111111111,
           "#46039f"
          ],
          [
           0.2222222222222222,
           "#7201a8"
          ],
          [
           0.3333333333333333,
           "#9c179e"
          ],
          [
           0.4444444444444444,
           "#bd3786"
          ],
          [
           0.5555555555555556,
           "#d8576b"
          ],
          [
           0.6666666666666666,
           "#ed7953"
          ],
          [
           0.7777777777777778,
           "#fb9f3a"
          ],
          [
           0.8888888888888888,
           "#fdca26"
          ],
          [
           1,
           "#f0f921"
          ]
         ],
         "geo": "geo4",
         "locationmode": "country names",
         "locations": [
          "Argentina",
          "Republic of Korea",
          "Serbia",
          "Greece",
          "Algeria",
          "Cyprus",
          "Tunisia",
          "Austria",
          "Singapore",
          "United States of America",
          "Azerbaijan",
          "Malta",
          "Poland",
          "Ireland",
          "Bulgaria",
          "North Macedonia",
          "Netherlands",
          "Estonia",
          "Gibraltar",
          "Italy",
          "Madagascar",
          "Romania",
          "Ecuador",
          "France",
          "Croatia",
          "Samoa",
          "Türkiye",
          "Seychelles",
          "South Africa",
          "Hungary",
          "Liechtenstein",
          "Colombia",
          "Spain",
          "Czechia",
          "Republic of Moldova",
          "Bangladesh",
          "Slovenia",
          "Georgia",
          "Saudi Arabia",
          "Iceland",
          "Lithuania",
          "Burkina Faso",
          "Latvia",
          "Sweden",
          "Denmark",
          "New Zealand",
          "Monaco",
          "Morocco",
          "Germany",
          "Albania",
          "Chile",
          "India",
          "Palestine",
          "Belgium",
          "United Kingdom of Great Britain and Northern Ireland",
          "Portugal",
          "Qatar",
          "El Salvador",
          "Uzbekistan",
          "Brunei Darussalam",
          "Namibia",
          "Andorra",
          "Kyrgyzstan",
          "China, Macao Special Administrative Region",
          "Panama",
          "Costa Rica",
          "Canada",
          "Bahrain",
          "Mexico",
          "Slovakia",
          "Ukraine",
          "Cuba",
          "Oman",
          "Australia",
          "Switzerland",
          "Finland",
          "Belarus",
          "Norway",
          "United Arab Emirates",
          "Brazil",
          "Jordan",
          "Mauritania",
          "Bosnia and Herzegovina",
          "Iran (Islamic Republic of)",
          "Luxembourg",
          "Kazakhstan",
          "Armenia",
          "Belize",
          "Ghana",
          "Dominican Republic",
          "Chad",
          "Rwanda",
          "Benin",
          "Israel",
          "Turkmenistan",
          "Uruguay",
          "Botswana",
          "Philippines",
          "Mauritius",
          "Afghanistan",
          "Sri Lanka"
         ],
         "showscale": false,
         "type": "choropleth",
         "z": [
          14.15,
          30.18,
          30.47,
          27.42,
          29.58,
          13.11,
          38.29,
          30.57,
          36.27,
          19.55,
          24.16,
          17.23,
          19.45,
          26.41,
          19.51,
          20.61,
          18.83,
          27.48,
          null,
          22.68,
          24.3,
          29.09,
          18.3,
          25.89,
          28.49,
          7.3,
          15.21,
          28.84,
          17.41,
          15.5,
          28.97,
          23.52,
          20.81,
          25.88,
          25.42,
          11.15,
          28.64,
          18.64,
          23.34,
          18.17,
          26.03,
          20.35,
          19.33,
          27.01,
          23.01,
          23.63,
          null,
          20.39,
          35.82,
          20.11,
          21.41,
          33.71,
          14.77,
          17.58,
          22.75,
          27.82,
          21.09,
          23.43,
          36.93,
          38.39,
          8.92,
          19.63,
          19.17,
          7.68,
          13.74,
          16.23,
          25.71,
          15.49,
          25.82,
          22.18,
          24.25,
          14.38,
          39.04,
          20.55,
          25.17,
          27.94,
          35.46,
          21.23,
          33.15,
          17.5,
          28.42,
          34.55,
          23.32,
          38.98,
          19.24,
          24.06,
          16.64,
          21.39,
          15.22,
          11.82,
          14.31,
          32.1,
          19.66,
          26.92,
          39.91,
          15.24,
          18.51,
          22.83,
          21.61,
          11.25,
          21.04
         ]
        },
        {
         "colorbar": {
          "title": {
           "text": "Value"
          }
         },
         "colorscale": [
          [
           0,
           "#0d0887"
          ],
          [
           0.1111111111111111,
           "#46039f"
          ],
          [
           0.2222222222222222,
           "#7201a8"
          ],
          [
           0.3333333333333333,
           "#9c179e"
          ],
          [
           0.4444444444444444,
           "#bd3786"
          ],
          [
           0.5555555555555556,
           "#d8576b"
          ],
          [
           0.6666666666666666,
           "#ed7953"
          ],
          [
           0.7777777777777778,
           "#fb9f3a"
          ],
          [
           0.8888888888888888,
           "#fdca26"
          ],
          [
           1,
           "#f0f921"
          ]
         ],
         "geo": "geo5",
         "locationmode": "country names",
         "locations": [
          "Argentina",
          "Republic of Korea",
          "Serbia",
          "Greece",
          "Algeria",
          "Cyprus",
          "Austria",
          "Singapore",
          "United States of America",
          "Azerbaijan",
          "Malta",
          "Poland",
          "Ireland",
          "North Macedonia",
          "Netherlands",
          "Estonia",
          "Italy",
          "Romania",
          "France",
          "Samoa",
          "Türkiye",
          "Seychelles",
          "South Africa",
          "Hungary",
          "Colombia",
          "Spain",
          "Czechia",
          "Republic of Moldova",
          "Slovenia",
          "Georgia",
          "Saudi Arabia",
          "Iceland",
          "Lithuania",
          "Burkina Faso",
          "Latvia",
          "Sweden",
          "Denmark",
          "New Zealand",
          "Monaco",
          "Morocco",
          "Germany",
          "Albania",
          "Chile",
          "India",
          "Palestine",
          "Belgium",
          "United Kingdom of Great Britain and Northern Ireland",
          "Portugal",
          "Qatar",
          "Uzbekistan",
          "Andorra",
          "Kyrgyzstan",
          "China, Macao Special Administrative Region",
          "Panama",
          "Costa Rica",
          "Canada",
          "Bahrain",
          "Mexico",
          "Slovakia",
          "Lebanon",
          "Ukraine",
          "Cuba",
          "Oman",
          "Australia",
          "Switzerland",
          "Finland",
          "Belarus",
          "Norway",
          "Jordan",
          "Bosnia and Herzegovina",
          "Iran (Islamic Republic of)",
          "Luxembourg",
          "Armenia",
          "Belize",
          "Ghana",
          "Dominican Republic",
          "Benin",
          "Israel",
          "British Virgin Islands",
          "Uruguay",
          "Botswana",
          "Philippines",
          "Mauritius",
          "Sri Lanka",
          "Trinidad and Tobago",
          "Turks and Caicos Islands"
         ],
         "showscale": false,
         "type": "choropleth",
         "z": [
          15.04,
          30.39,
          30.1,
          27.5,
          30.13,
          11.17,
          30.6,
          35.94,
          20.07,
          24.16,
          15.15,
          19.64,
          24.91,
          20.61,
          19.34,
          28.12,
          23.89,
          29.27,
          25.55,
          6.38,
          15.8,
          19.81,
          18.71,
          21.57,
          23.91,
          21.46,
          25.47,
          25.01,
          28.14,
          19.58,
          22.78,
          17.04,
          25.77,
          20.68,
          19.36,
          28.17,
          23.99,
          22.74,
          null,
          28.9,
          35.14,
          18.54,
          20.51,
          30.69,
          15.3,
          18.6,
          22.26,
          27.72,
          18.93,
          32.79,
          7.45,
          18.33,
          8.93,
          15.23,
          15.72,
          26.19,
          15.78,
          24.34,
          21.31,
          28.15,
          25.66,
          12.27,
          39.47,
          20.68,
          25.33,
          28.21,
          34.61,
          22.97,
          26.85,
          23.96,
          36.84,
          19.78,
          17.72,
          18.39,
          16.72,
          13.51,
          21.76,
          27.18,
          37.26,
          18.57,
          19.74,
          26.27,
          24.75,
          24.47,
          32.34,
          16.13
         ]
        },
        {
         "colorbar": {
          "title": {
           "text": "Value"
          }
         },
         "colorscale": [
          [
           0,
           "#0d0887"
          ],
          [
           0.1111111111111111,
           "#46039f"
          ],
          [
           0.2222222222222222,
           "#7201a8"
          ],
          [
           0.3333333333333333,
           "#9c179e"
          ],
          [
           0.4444444444444444,
           "#bd3786"
          ],
          [
           0.5555555555555556,
           "#d8576b"
          ],
          [
           0.6666666666666666,
           "#ed7953"
          ],
          [
           0.7777777777777778,
           "#fb9f3a"
          ],
          [
           0.8888888888888888,
           "#fdca26"
          ],
          [
           1,
           "#f0f921"
          ]
         ],
         "geo": "geo6",
         "locationmode": "country names",
         "locations": [
          "Republic of Korea",
          "Serbia",
          "Algeria",
          "Tunisia",
          "Azerbaijan",
          "Malaysia",
          "Mongolia",
          "Madagascar",
          "Seychelles",
          "Republic of Moldova",
          "Slovenia",
          "Georgia",
          "Saudi Arabia",
          "Burkina Faso",
          "Sweden",
          "Monaco",
          "Morocco",
          "Albania",
          "Chile",
          "India",
          "Palestine",
          "Qatar",
          "Andorra",
          "Kyrgyzstan",
          "China, Macao Special Administrative Region",
          "Bahrain",
          "Slovakia",
          "Lebanon",
          "Thailand",
          "Australia",
          "Finland",
          "Belarus",
          "Jordan",
          "Bosnia and Herzegovina",
          "Iran (Islamic Republic of)",
          "Luxembourg",
          "Sint Maarten (Dutch part)",
          "Armenia",
          "Belize",
          "Ghana",
          "Rwanda",
          "Turkmenistan",
          "British Virgin Islands",
          "Egypt",
          "Syrian Arab Republic",
          "Marshall Islands",
          "Sri Lanka",
          "Trinidad and Tobago"
         ],
         "showscale": true,
         "type": "choropleth",
         "z": [
          30.42,
          29.82,
          29.89,
          37.88,
          25.29,
          40.23,
          18.65,
          23.52,
          26.25,
          23.31,
          29.53,
          19.64,
          28.07,
          25.34,
          28.99,
          null,
          27.23,
          20.81,
          21.38,
          29.33,
          17.03,
          17.83,
          28.18,
          18.94,
          9.02,
          16.36,
          21.41,
          28.44,
          29.04,
          19.15,
          29.4,
          31.95,
          27.16,
          24.52,
          35.02,
          22.88,
          5.56,
          18.39,
          23.59,
          14.28,
          31.03,
          39.57,
          35.19,
          16.88,
          32.5,
          1.29,
          24.68,
          35.35
         ]
        }
       ],
       "layout": {
        "annotations": [
         {
          "font": {
           "size": 16
          },
          "showarrow": false,
          "text": "2017",
          "x": 0.225,
          "xanchor": "center",
          "xref": "paper",
          "y": 1,
          "yanchor": "bottom",
          "yref": "paper"
         },
         {
          "font": {
           "size": 16
          },
          "showarrow": false,
          "text": "2018",
          "x": 0.775,
          "xanchor": "center",
          "xref": "paper",
          "y": 1,
          "yanchor": "bottom",
          "yref": "paper"
         },
         {
          "font": {
           "size": 16
          },
          "showarrow": false,
          "text": "2019",
          "x": 0.225,
          "xanchor": "center",
          "xref": "paper",
          "y": 0.6111111111111112,
          "yanchor": "bottom",
          "yref": "paper"
         },
         {
          "font": {
           "size": 16
          },
          "showarrow": false,
          "text": "2020",
          "x": 0.775,
          "xanchor": "center",
          "xref": "paper",
          "y": 0.6111111111111112,
          "yanchor": "bottom",
          "yref": "paper"
         },
         {
          "font": {
           "size": 16
          },
          "showarrow": false,
          "text": "2021",
          "x": 0.225,
          "xanchor": "center",
          "xref": "paper",
          "y": 0.22222222222222224,
          "yanchor": "bottom",
          "yref": "paper"
         },
         {
          "font": {
           "size": 16
          },
          "showarrow": false,
          "text": "2022",
          "x": 0.775,
          "xanchor": "center",
          "xref": "paper",
          "y": 0.22222222222222224,
          "yanchor": "bottom",
          "yref": "paper"
         }
        ],
        "geo": {
         "domain": {
          "x": [
           0,
           0.45
          ],
          "y": [
           0.7777777777777778,
           1
          ]
         }
        },
        "geo2": {
         "domain": {
          "x": [
           0.55,
           1
          ],
          "y": [
           0.7777777777777778,
           1
          ]
         }
        },
        "geo3": {
         "domain": {
          "x": [
           0,
           0.45
          ],
          "y": [
           0.3888888888888889,
           0.6111111111111112
          ]
         }
        },
        "geo4": {
         "domain": {
          "x": [
           0.55,
           1
          ],
          "y": [
           0.3888888888888889,
           0.6111111111111112
          ]
         }
        },
        "geo5": {
         "domain": {
          "x": [
           0,
           0.45
          ],
          "y": [
           0,
           0.22222222222222224
          ]
         }
        },
        "geo6": {
         "domain": {
          "x": [
           0.55,
           1
          ],
          "y": [
           0,
           0.22222222222222224
          ]
         }
        },
        "height": 1800,
        "template": {
         "data": {
          "bar": [
           {
            "error_x": {
             "color": "#2a3f5f"
            },
            "error_y": {
             "color": "#2a3f5f"
            },
            "marker": {
             "line": {
              "color": "#E5ECF6",
              "width": 0.5
             }
            },
            "type": "bar"
           }
          ],
          "barpolar": [
           {
            "marker": {
             "line": {
              "color": "#E5ECF6",
              "width": 0.5
             }
            },
            "type": "barpolar"
           }
          ],
          "carpet": [
           {
            "aaxis": {
             "endlinecolor": "#2a3f5f",
             "gridcolor": "white",
             "linecolor": "white",
             "minorgridcolor": "white",
             "startlinecolor": "#2a3f5f"
            },
            "baxis": {
             "endlinecolor": "#2a3f5f",
             "gridcolor": "white",
             "linecolor": "white",
             "minorgridcolor": "white",
             "startlinecolor": "#2a3f5f"
            },
            "type": "carpet"
           }
          ],
          "choropleth": [
           {
            "colorbar": {
             "outlinewidth": 0,
             "ticks": ""
            },
            "type": "choropleth"
           }
          ],
          "contour": [
           {
            "colorbar": {
             "outlinewidth": 0,
             "ticks": ""
            },
            "colorscale": [
             [
              0,
              "#0d0887"
             ],
             [
              0.1111111111111111,
              "#46039f"
             ],
             [
              0.2222222222222222,
              "#7201a8"
             ],
             [
              0.3333333333333333,
              "#9c179e"
             ],
             [
              0.4444444444444444,
              "#bd3786"
             ],
             [
              0.5555555555555556,
              "#d8576b"
             ],
             [
              0.6666666666666666,
              "#ed7953"
             ],
             [
              0.7777777777777778,
              "#fb9f3a"
             ],
             [
              0.8888888888888888,
              "#fdca26"
             ],
             [
              1,
              "#f0f921"
             ]
            ],
            "type": "contour"
           }
          ],
          "contourcarpet": [
           {
            "colorbar": {
             "outlinewidth": 0,
             "ticks": ""
            },
            "type": "contourcarpet"
           }
          ],
          "heatmap": [
           {
            "colorbar": {
             "outlinewidth": 0,
             "ticks": ""
            },
            "colorscale": [
             [
              0,
              "#0d0887"
             ],
             [
              0.1111111111111111,
              "#46039f"
             ],
             [
              0.2222222222222222,
              "#7201a8"
             ],
             [
              0.3333333333333333,
              "#9c179e"
             ],
             [
              0.4444444444444444,
              "#bd3786"
             ],
             [
              0.5555555555555556,
              "#d8576b"
             ],
             [
              0.6666666666666666,
              "#ed7953"
             ],
             [
              0.7777777777777778,
              "#fb9f3a"
             ],
             [
              0.8888888888888888,
              "#fdca26"
             ],
             [
              1,
              "#f0f921"
             ]
            ],
            "type": "heatmap"
           }
          ],
          "heatmapgl": [
           {
            "colorbar": {
             "outlinewidth": 0,
             "ticks": ""
            },
            "colorscale": [
             [
              0,
              "#0d0887"
             ],
             [
              0.1111111111111111,
              "#46039f"
             ],
             [
              0.2222222222222222,
              "#7201a8"
             ],
             [
              0.3333333333333333,
              "#9c179e"
             ],
             [
              0.4444444444444444,
              "#bd3786"
             ],
             [
              0.5555555555555556,
              "#d8576b"
             ],
             [
              0.6666666666666666,
              "#ed7953"
             ],
             [
              0.7777777777777778,
              "#fb9f3a"
             ],
             [
              0.8888888888888888,
              "#fdca26"
             ],
             [
              1,
              "#f0f921"
             ]
            ],
            "type": "heatmapgl"
           }
          ],
          "histogram": [
           {
            "marker": {
             "colorbar": {
              "outlinewidth": 0,
              "ticks": ""
             }
            },
            "type": "histogram"
           }
          ],
          "histogram2d": [
           {
            "colorbar": {
             "outlinewidth": 0,
             "ticks": ""
            },
            "colorscale": [
             [
              0,
              "#0d0887"
             ],
             [
              0.1111111111111111,
              "#46039f"
             ],
             [
              0.2222222222222222,
              "#7201a8"
             ],
             [
              0.3333333333333333,
              "#9c179e"
             ],
             [
              0.4444444444444444,
              "#bd3786"
             ],
             [
              0.5555555555555556,
              "#d8576b"
             ],
             [
              0.6666666666666666,
              "#ed7953"
             ],
             [
              0.7777777777777778,
              "#fb9f3a"
             ],
             [
              0.8888888888888888,
              "#fdca26"
             ],
             [
              1,
              "#f0f921"
             ]
            ],
            "type": "histogram2d"
           }
          ],
          "histogram2dcontour": [
           {
            "colorbar": {
             "outlinewidth": 0,
             "ticks": ""
            },
            "colorscale": [
             [
              0,
              "#0d0887"
             ],
             [
              0.1111111111111111,
              "#46039f"
             ],
             [
              0.2222222222222222,
              "#7201a8"
             ],
             [
              0.3333333333333333,
              "#9c179e"
             ],
             [
              0.4444444444444444,
              "#bd3786"
             ],
             [
              0.5555555555555556,
              "#d8576b"
             ],
             [
              0.6666666666666666,
              "#ed7953"
             ],
             [
              0.7777777777777778,
              "#fb9f3a"
             ],
             [
              0.8888888888888888,
              "#fdca26"
             ],
             [
              1,
              "#f0f921"
             ]
            ],
            "type": "histogram2dcontour"
           }
          ],
          "mesh3d": [
           {
            "colorbar": {
             "outlinewidth": 0,
             "ticks": ""
            },
            "type": "mesh3d"
           }
          ],
          "parcoords": [
           {
            "line": {
             "colorbar": {
              "outlinewidth": 0,
              "ticks": ""
             }
            },
            "type": "parcoords"
           }
          ],
          "pie": [
           {
            "automargin": true,
            "type": "pie"
           }
          ],
          "scatter": [
           {
            "marker": {
             "colorbar": {
              "outlinewidth": 0,
              "ticks": ""
             }
            },
            "type": "scatter"
           }
          ],
          "scatter3d": [
           {
            "line": {
             "colorbar": {
              "outlinewidth": 0,
              "ticks": ""
             }
            },
            "marker": {
             "colorbar": {
              "outlinewidth": 0,
              "ticks": ""
             }
            },
            "type": "scatter3d"
           }
          ],
          "scattercarpet": [
           {
            "marker": {
             "colorbar": {
              "outlinewidth": 0,
              "ticks": ""
             }
            },
            "type": "scattercarpet"
           }
          ],
          "scattergeo": [
           {
            "marker": {
             "colorbar": {
              "outlinewidth": 0,
              "ticks": ""
             }
            },
            "type": "scattergeo"
           }
          ],
          "scattergl": [
           {
            "marker": {
             "colorbar": {
              "outlinewidth": 0,
              "ticks": ""
             }
            },
            "type": "scattergl"
           }
          ],
          "scattermapbox": [
           {
            "marker": {
             "colorbar": {
              "outlinewidth": 0,
              "ticks": ""
             }
            },
            "type": "scattermapbox"
           }
          ],
          "scatterpolar": [
           {
            "marker": {
             "colorbar": {
              "outlinewidth": 0,
              "ticks": ""
             }
            },
            "type": "scatterpolar"
           }
          ],
          "scatterpolargl": [
           {
            "marker": {
             "colorbar": {
              "outlinewidth": 0,
              "ticks": ""
             }
            },
            "type": "scatterpolargl"
           }
          ],
          "scatterternary": [
           {
            "marker": {
             "colorbar": {
              "outlinewidth": 0,
              "ticks": ""
             }
            },
            "type": "scatterternary"
           }
          ],
          "surface": [
           {
            "colorbar": {
             "outlinewidth": 0,
             "ticks": ""
            },
            "colorscale": [
             [
              0,
              "#0d0887"
             ],
             [
              0.1111111111111111,
              "#46039f"
             ],
             [
              0.2222222222222222,
              "#7201a8"
             ],
             [
              0.3333333333333333,
              "#9c179e"
             ],
             [
              0.4444444444444444,
              "#bd3786"
             ],
             [
              0.5555555555555556,
              "#d8576b"
             ],
             [
              0.6666666666666666,
              "#ed7953"
             ],
             [
              0.7777777777777778,
              "#fb9f3a"
             ],
             [
              0.8888888888888888,
              "#fdca26"
             ],
             [
              1,
              "#f0f921"
             ]
            ],
            "type": "surface"
           }
          ],
          "table": [
           {
            "cells": {
             "fill": {
              "color": "#EBF0F8"
             },
             "line": {
              "color": "white"
             }
            },
            "header": {
             "fill": {
              "color": "#C8D4E3"
             },
             "line": {
              "color": "white"
             }
            },
            "type": "table"
           }
          ]
         },
         "layout": {
          "annotationdefaults": {
           "arrowcolor": "#2a3f5f",
           "arrowhead": 0,
           "arrowwidth": 1
          },
          "autotypenumbers": "strict",
          "coloraxis": {
           "colorbar": {
            "outlinewidth": 0,
            "ticks": ""
           }
          },
          "colorscale": {
           "diverging": [
            [
             0,
             "#8e0152"
            ],
            [
             0.1,
             "#c51b7d"
            ],
            [
             0.2,
             "#de77ae"
            ],
            [
             0.3,
             "#f1b6da"
            ],
            [
             0.4,
             "#fde0ef"
            ],
            [
             0.5,
             "#f7f7f7"
            ],
            [
             0.6,
             "#e6f5d0"
            ],
            [
             0.7,
             "#b8e186"
            ],
            [
             0.8,
             "#7fbc41"
            ],
            [
             0.9,
             "#4d9221"
            ],
            [
             1,
             "#276419"
            ]
           ],
           "sequential": [
            [
             0,
             "#0d0887"
            ],
            [
             0.1111111111111111,
             "#46039f"
            ],
            [
             0.2222222222222222,
             "#7201a8"
            ],
            [
             0.3333333333333333,
             "#9c179e"
            ],
            [
             0.4444444444444444,
             "#bd3786"
            ],
            [
             0.5555555555555556,
             "#d8576b"
            ],
            [
             0.6666666666666666,
             "#ed7953"
            ],
            [
             0.7777777777777778,
             "#fb9f3a"
            ],
            [
             0.8888888888888888,
             "#fdca26"
            ],
            [
             1,
             "#f0f921"
            ]
           ],
           "sequentialminus": [
            [
             0,
             "#0d0887"
            ],
            [
             0.1111111111111111,
             "#46039f"
            ],
            [
             0.2222222222222222,
             "#7201a8"
            ],
            [
             0.3333333333333333,
             "#9c179e"
            ],
            [
             0.4444444444444444,
             "#bd3786"
            ],
            [
             0.5555555555555556,
             "#d8576b"
            ],
            [
             0.6666666666666666,
             "#ed7953"
            ],
            [
             0.7777777777777778,
             "#fb9f3a"
            ],
            [
             0.8888888888888888,
             "#fdca26"
            ],
            [
             1,
             "#f0f921"
            ]
           ]
          },
          "colorway": [
           "#636efa",
           "#EF553B",
           "#00cc96",
           "#ab63fa",
           "#FFA15A",
           "#19d3f3",
           "#FF6692",
           "#B6E880",
           "#FF97FF",
           "#FECB52"
          ],
          "font": {
           "color": "#2a3f5f"
          },
          "geo": {
           "bgcolor": "white",
           "lakecolor": "white",
           "landcolor": "#E5ECF6",
           "showlakes": true,
           "showland": true,
           "subunitcolor": "white"
          },
          "hoverlabel": {
           "align": "left"
          },
          "hovermode": "closest",
          "mapbox": {
           "style": "light"
          },
          "paper_bgcolor": "white",
          "plot_bgcolor": "#E5ECF6",
          "polar": {
           "angularaxis": {
            "gridcolor": "white",
            "linecolor": "white",
            "ticks": ""
           },
           "bgcolor": "#E5ECF6",
           "radialaxis": {
            "gridcolor": "white",
            "linecolor": "white",
            "ticks": ""
           }
          },
          "scene": {
           "xaxis": {
            "backgroundcolor": "#E5ECF6",
            "gridcolor": "white",
            "gridwidth": 2,
            "linecolor": "white",
            "showbackground": true,
            "ticks": "",
            "zerolinecolor": "white"
           },
           "yaxis": {
            "backgroundcolor": "#E5ECF6",
            "gridcolor": "white",
            "gridwidth": 2,
            "linecolor": "white",
            "showbackground": true,
            "ticks": "",
            "zerolinecolor": "white"
           },
           "zaxis": {
            "backgroundcolor": "#E5ECF6",
            "gridcolor": "white",
            "gridwidth": 2,
            "linecolor": "white",
            "showbackground": true,
            "ticks": "",
            "zerolinecolor": "white"
           }
          },
          "shapedefaults": {
           "line": {
            "color": "#2a3f5f"
           }
          },
          "ternary": {
           "aaxis": {
            "gridcolor": "white",
            "linecolor": "white",
            "ticks": ""
           },
           "baxis": {
            "gridcolor": "white",
            "linecolor": "white",
            "ticks": ""
           },
           "bgcolor": "#E5ECF6",
           "caxis": {
            "gridcolor": "white",
            "linecolor": "white",
            "ticks": ""
           }
          },
          "title": {
           "x": 0.05
          },
          "xaxis": {
           "automargin": true,
           "gridcolor": "white",
           "linecolor": "white",
           "ticks": "",
           "title": {
            "standoff": 15
           },
           "zerolinecolor": "white",
           "zerolinewidth": 2
          },
          "yaxis": {
           "automargin": true,
           "gridcolor": "white",
           "linecolor": "white",
           "ticks": "",
           "title": {
            "standoff": 15
           },
           "zerolinecolor": "white",
           "zerolinewidth": 2
          }
         }
        },
        "title": {
         "text": "Percentage of Graduates from STEM Programmes in Tertiary Education by Country and Year"
        },
        "width": 1000
       }
      },
      "text/html": [
       "<div>                            <div id=\"ddecf759-f468-4c4d-9a97-e682c8a9892b\" class=\"plotly-graph-div\" style=\"height:1800px; width:1000px;\"></div>            <script type=\"text/javascript\">                require([\"plotly\"], function(Plotly) {                    window.PLOTLYENV=window.PLOTLYENV || {};                                    if (document.getElementById(\"ddecf759-f468-4c4d-9a97-e682c8a9892b\")) {                    Plotly.newPlot(                        \"ddecf759-f468-4c4d-9a97-e682c8a9892b\",                        [{\"colorbar\": {\"title\": {\"text\": \"Value\"}}, \"colorscale\": [[0.0, \"#0d0887\"], [0.1111111111111111, \"#46039f\"], [0.2222222222222222, \"#7201a8\"], [0.3333333333333333, \"#9c179e\"], [0.4444444444444444, \"#bd3786\"], [0.5555555555555556, \"#d8576b\"], [0.6666666666666666, \"#ed7953\"], [0.7777777777777778, \"#fb9f3a\"], [0.8888888888888888, \"#fdca26\"], [1.0, \"#f0f921\"]], \"geo\": \"geo\", \"locationmode\": \"country names\", \"locations\": [\"Mozambique\", \"Republic of Korea\", \"Serbia\", \"Greece\", \"Cyprus\", \"Indonesia\", \"Singapore\", \"Azerbaijan\", \"Malta\", \"Poland\", \"Bulgaria\", \"North Macedonia\", \"Honduras\", \"Congo\", \"Netherlands\", \"Estonia\", \"Mongolia\", \"Madagascar\", \"Croatia\", \"Samoa\", \"Maldives\", \"Seychelles\", \"South Africa\", \"Hungary\", \"Lao People's Democratic Republic\", \"Colombia\", \"Bermuda\", \"Spain\", \"Czechia\", \"Bangladesh\", \"Slovenia\", \"Georgia\", \"Saudi Arabia\", \"Lithuania\", \"Burkina Faso\", \"Latvia\", \"Sweden\", \"Denmark\", \"New Zealand\", \"Monaco\", \"Morocco\", \"Germany\", \"Albania\", \"Chile\", \"India\", \"Palestine\", \"Belgium\", \"Portugal\", \"Qatar\", \"El Salvador\", \"Cabo Verde\", \"Uzbekistan\", \"Namibia\", \"Andorra\", \"Kyrgyzstan\", \"China, Macao Special Administrative Region\", \"Costa Rica\", \"Bahrain\", \"Mexico\", \"Slovakia\", \"Russian Federation\", \"Burundi\", \"Ukraine\", \"Oman\", \"Australia\", \"Switzerland\", \"Finland\", \"Grenada\", \"Belarus\", \"Norway\", \"United Arab Emirates\", \"Brazil\", \"Bosnia and Herzegovina\", \"Iran (Islamic Republic of)\", \"Sint Maarten (Dutch part)\", \"Kazakhstan\", \"Armenia\", \"Niger\", \"Ghana\", \"Dominican Republic\", \"Rwanda\", \"Peru\", \"Tajikistan\", \"Uruguay\", \"Philippines\", \"Mauritius\", \"Sri Lanka\"], \"showscale\": false, \"type\": \"choropleth\", \"z\": [9.03, 29.34, 26.64, 29.4, 14.97, 18.55, 34.93, 23.61, 20.31, 22.94, 20.51, 21.89, 15.02, 15.13, 16.62, 28.84, 21.55, 22.96, 27.01, 9.32, 5.11, 15.7, 18.57, 23.26, 16.86, 23.66, 20.44, 23.45, 23.86, 11.28, 26.61, 21.88, 21.91, 25.67, 15.42, 20.87, 27.5, 20.98, 21.18, null, 19.05, 35.55, 19.35, 20.47, 32.64, 15.83, 16.7, 29.09, 22.93, 22.28, 16.42, 31.51, 12.12, 3.53, 20.45, 7.57, 14.4, 15.59, 25.24, 21.17, 29.96, 20.63, 24.22, 46.27, 18.43, 24.85, 27.25, 12.98, 33.23, 22.1, 27.73, 17.73, 20.31, 42.13, 2.78, 23.18, 14.72, 13.22, 13.39, 11.55, 13.75, 29.64, 22.04, 17.45, 28.74, 23.31, 25.86]}, {\"colorbar\": {\"title\": {\"text\": \"Value\"}}, \"colorscale\": [[0.0, \"#0d0887\"], [0.1111111111111111, \"#46039f\"], [0.2222222222222222, \"#7201a8\"], [0.3333333333333333, \"#9c179e\"], [0.4444444444444444, \"#bd3786\"], [0.5555555555555556, \"#d8576b\"], [0.6666666666666666, \"#ed7953\"], [0.7777777777777778, \"#fb9f3a\"], [0.8888888888888888, \"#fdca26\"], [1.0, \"#f0f921\"]], \"geo\": \"geo2\", \"locationmode\": \"country names\", \"locations\": [\"Argentina\", \"Mozambique\", \"Serbia\", \"Greece\", \"Algeria\", \"Cyprus\", \"Indonesia\", \"Tunisia\", \"Austria\", \"Singapore\", \"Azerbaijan\", \"Poland\", \"Ireland\", \"Bulgaria\", \"North Macedonia\", \"Honduras\", \"Malaysia\", \"Netherlands\", \"Estonia\", \"Mongolia\", \"Italy\", \"Lesotho\", \"Madagascar\", \"Ecuador\", \"France\", \"Croatia\", \"Samoa\", \"T\\u00fcrkiye\", \"Seychelles\", \"Puerto Rico\", \"South Africa\", \"Hungary\", \"Liechtenstein\", \"Lao People's Democratic Republic\", \"Colombia\", \"Bermuda\", \"Spain\", \"Czechia\", \"Republic of Moldova\", \"Slovenia\", \"Georgia\", \"Saudi Arabia\", \"Iceland\", \"Lithuania\", \"Burkina Faso\", \"Latvia\", \"Sweden\", \"Denmark\", \"New Zealand\", \"Monaco\", \"Germany\", \"Albania\", \"Chile\", \"India\", \"Palestine\", \"Belgium\", \"Qatar\", \"El Salvador\", \"Cabo Verde\", \"Uzbekistan\", \"Brunei Darussalam\", \"Namibia\", \"Andorra\", \"Kyrgyzstan\", \"China, Macao Special Administrative Region\", \"Costa Rica\", \"Canada\", \"Bahrain\", \"Slovakia\", \"Russian Federation\", \"Burundi\", \"Ukraine\", \"Oman\", \"Australia\", \"Switzerland\", \"Finland\", \"Grenada\", \"Belarus\", \"Norway\", \"Brazil\", \"Bosnia and Herzegovina\", \"Iran (Islamic Republic of)\", \"Luxembourg\", \"Kazakhstan\", \"Armenia\", \"Niger\", \"Ghana\", \"Rwanda\", \"Benin\", \"Uruguay\", \"Philippines\", \"Myanmar\", \"Sri Lanka\"], \"showscale\": false, \"type\": \"choropleth\", \"z\": [16.05, 9.56, 28.13, 28.27, 34.23, 15.15, 19.42, 43.25, 31.03, 34.72, 23.52, 21.65, 24.1, 19.28, 23.57, 15.2, 40.77, 17.45, 27.73, 25.34, 24.2, 15.36, 23.84, 9.38, 25.39, 26.33, 9.32, 19.44, 17.23, 18.15, 18.28, 22.52, 19.63, 22.46, 23.13, 38.03, 22.27, 26.12, 23.48, 27.23, 21.24, 21.14, 18.59, 26.82, 19.68, 20.17, 26.64, 22.2, 21.38, null, 35.31, 20.63, 20.95, 32.65, 15.42, 16.99, 22.55, 21.43, 16.13, 35.16, 39.23, 12.88, 13.46, 20.79, 7.66, 15.46, 22.38, 16.15, 22.07, 31.06, 19.67, 25.28, 46.15, 17.4, 25.21, 28.12, 15.68, 33.86, 21.81, 18.37, 21.22, 40.2, 18.82, 24.84, 15.17, 10.42, 16.37, 16.27, 20.91, 18.98, 23.86, 33.67, 24.28]}, {\"colorbar\": {\"title\": {\"text\": \"Value\"}}, \"colorscale\": [[0.0, \"#0d0887\"], [0.1111111111111111, \"#46039f\"], [0.2222222222222222, \"#7201a8\"], [0.3333333333333333, \"#9c179e\"], [0.4444444444444444, \"#bd3786\"], [0.5555555555555556, \"#d8576b\"], [0.6666666666666666, \"#ed7953\"], [0.7777777777777778, \"#fb9f3a\"], [0.8888888888888888, \"#fdca26\"], [1.0, \"#f0f921\"]], \"geo\": \"geo3\", \"locationmode\": \"country names\", \"locations\": [\"Cambodia\", \"Argentina\", \"Republic of Korea\", \"Serbia\", \"Greece\", \"Algeria\", \"Cyprus\", \"Austria\", \"Singapore\", \"United States of America\", \"Azerbaijan\", \"Malta\", \"Poland\", \"Ireland\", \"Bulgaria\", \"Honduras\", \"Malaysia\", \"Netherlands\", \"Estonia\", \"Mongolia\", \"Italy\", \"Montserrat\", \"Madagascar\", \"Romania\", \"Ecuador\", \"France\", \"Croatia\", \"Samoa\", \"T\\u00fcrkiye\", \"Maldives\", \"Seychelles\", \"South Africa\", \"Hungary\", \"Liechtenstein\", \"Lao People's Democratic Republic\", \"Colombia\", \"Czechia\", \"Republic of Moldova\", \"Bangladesh\", \"Slovenia\", \"Georgia\", \"Saudi Arabia\", \"Iceland\", \"Lithuania\", \"Burkina Faso\", \"Latvia\", \"Sweden\", \"Denmark\", \"New Zealand\", \"Monaco\", \"Morocco\", \"Germany\", \"Albania\", \"Chile\", \"India\", \"Palestine\", \"Belgium\", \"United Kingdom of Great Britain and Northern Ireland\", \"Portugal\", \"Qatar\", \"El Salvador\", \"Uzbekistan\", \"Brunei Darussalam\", \"Namibia\", \"Andorra\", \"Kyrgyzstan\", \"China, Macao Special Administrative Region\", \"Panama\", \"Costa Rica\", \"Canada\", \"Bahrain\", \"Mexico\", \"Slovakia\", \"Russian Federation\", \"Ukraine\", \"Cuba\", \"Oman\", \"Australia\", \"Switzerland\", \"Finland\", \"Belarus\", \"Norway\", \"United Arab Emirates\", \"Brazil\", \"Bosnia and Herzegovina\", \"Iran (Islamic Republic of)\", \"Luxembourg\", \"Kazakhstan\", \"Armenia\", \"Niger\", \"Ghana\", \"Rwanda\", \"Benin\", \"United Republic of Tanzania\", \"Uruguay\", \"Philippines\", \"Marshall Islands\", \"Montenegro\", \"Fiji\", \"Sri Lanka\", \"Trinidad and Tobago\"], \"showscale\": false, \"type\": \"choropleth\", \"z\": [23.2, 15.42, 29.61, 28.35, 27.34, 32.43, 13.59, 31.4, 35.4, 19.23, 25.91, 17.13, 20.81, 25.31, 19.82, 15.73, 39.17, 18.58, 27.91, 23.15, 24.48, null, 29.09, 30.01, 16.24, 25.77, 27.27, 8.08, 18.36, 3.59, 19.85, 18.33, 23.35, 18.06, 23.14, 24.63, 25.86, 24.76, 11.15, 27.97, 24.56, 22.03, 20.21, 27.27, 20.26, 19.93, 27.32, 22.54, 22.99, null, 18.95, 36.78, 18.82, 20.57, 32.17, 14.67, 17.55, 26.25, 27.99, 24.23, 21.85, 34.48, 40.14, 12.79, 13.58, 19.71, 7.57, 16.46, 15.11, 25.05, 15.59, 25.83, 21.82, 31.36, 25.05, 20.84, 44.5, 18.63, 25.35, 28.38, 34.68, 20.95, 30.98, 18.53, 23.52, 39.14, 18.96, 24.73, 17.14, 12.34, 16.41, 12.96, 23.96, 9.5, 17.22, 23.82, null, 20.45, 17.15, 25.39, 25.42]}, {\"colorbar\": {\"title\": {\"text\": \"Value\"}}, \"colorscale\": [[0.0, \"#0d0887\"], [0.1111111111111111, \"#46039f\"], [0.2222222222222222, \"#7201a8\"], [0.3333333333333333, \"#9c179e\"], [0.4444444444444444, \"#bd3786\"], [0.5555555555555556, \"#d8576b\"], [0.6666666666666666, \"#ed7953\"], [0.7777777777777778, \"#fb9f3a\"], [0.8888888888888888, \"#fdca26\"], [1.0, \"#f0f921\"]], \"geo\": \"geo4\", \"locationmode\": \"country names\", \"locations\": [\"Argentina\", \"Republic of Korea\", \"Serbia\", \"Greece\", \"Algeria\", \"Cyprus\", \"Tunisia\", \"Austria\", \"Singapore\", \"United States of America\", \"Azerbaijan\", \"Malta\", \"Poland\", \"Ireland\", \"Bulgaria\", \"North Macedonia\", \"Netherlands\", \"Estonia\", \"Gibraltar\", \"Italy\", \"Madagascar\", \"Romania\", \"Ecuador\", \"France\", \"Croatia\", \"Samoa\", \"T\\u00fcrkiye\", \"Seychelles\", \"South Africa\", \"Hungary\", \"Liechtenstein\", \"Colombia\", \"Spain\", \"Czechia\", \"Republic of Moldova\", \"Bangladesh\", \"Slovenia\", \"Georgia\", \"Saudi Arabia\", \"Iceland\", \"Lithuania\", \"Burkina Faso\", \"Latvia\", \"Sweden\", \"Denmark\", \"New Zealand\", \"Monaco\", \"Morocco\", \"Germany\", \"Albania\", \"Chile\", \"India\", \"Palestine\", \"Belgium\", \"United Kingdom of Great Britain and Northern Ireland\", \"Portugal\", \"Qatar\", \"El Salvador\", \"Uzbekistan\", \"Brunei Darussalam\", \"Namibia\", \"Andorra\", \"Kyrgyzstan\", \"China, Macao Special Administrative Region\", \"Panama\", \"Costa Rica\", \"Canada\", \"Bahrain\", \"Mexico\", \"Slovakia\", \"Ukraine\", \"Cuba\", \"Oman\", \"Australia\", \"Switzerland\", \"Finland\", \"Belarus\", \"Norway\", \"United Arab Emirates\", \"Brazil\", \"Jordan\", \"Mauritania\", \"Bosnia and Herzegovina\", \"Iran (Islamic Republic of)\", \"Luxembourg\", \"Kazakhstan\", \"Armenia\", \"Belize\", \"Ghana\", \"Dominican Republic\", \"Chad\", \"Rwanda\", \"Benin\", \"Israel\", \"Turkmenistan\", \"Uruguay\", \"Botswana\", \"Philippines\", \"Mauritius\", \"Afghanistan\", \"Sri Lanka\"], \"showscale\": false, \"type\": \"choropleth\", \"z\": [14.15, 30.18, 30.47, 27.42, 29.58, 13.11, 38.29, 30.57, 36.27, 19.55, 24.16, 17.23, 19.45, 26.41, 19.51, 20.61, 18.83, 27.48, null, 22.68, 24.3, 29.09, 18.3, 25.89, 28.49, 7.3, 15.21, 28.84, 17.41, 15.5, 28.97, 23.52, 20.81, 25.88, 25.42, 11.15, 28.64, 18.64, 23.34, 18.17, 26.03, 20.35, 19.33, 27.01, 23.01, 23.63, null, 20.39, 35.82, 20.11, 21.41, 33.71, 14.77, 17.58, 22.75, 27.82, 21.09, 23.43, 36.93, 38.39, 8.92, 19.63, 19.17, 7.68, 13.74, 16.23, 25.71, 15.49, 25.82, 22.18, 24.25, 14.38, 39.04, 20.55, 25.17, 27.94, 35.46, 21.23, 33.15, 17.5, 28.42, 34.55, 23.32, 38.98, 19.24, 24.06, 16.64, 21.39, 15.22, 11.82, 14.31, 32.1, 19.66, 26.92, 39.91, 15.24, 18.51, 22.83, 21.61, 11.25, 21.04]}, {\"colorbar\": {\"title\": {\"text\": \"Value\"}}, \"colorscale\": [[0.0, \"#0d0887\"], [0.1111111111111111, \"#46039f\"], [0.2222222222222222, \"#7201a8\"], [0.3333333333333333, \"#9c179e\"], [0.4444444444444444, \"#bd3786\"], [0.5555555555555556, \"#d8576b\"], [0.6666666666666666, \"#ed7953\"], [0.7777777777777778, \"#fb9f3a\"], [0.8888888888888888, \"#fdca26\"], [1.0, \"#f0f921\"]], \"geo\": \"geo5\", \"locationmode\": \"country names\", \"locations\": [\"Argentina\", \"Republic of Korea\", \"Serbia\", \"Greece\", \"Algeria\", \"Cyprus\", \"Austria\", \"Singapore\", \"United States of America\", \"Azerbaijan\", \"Malta\", \"Poland\", \"Ireland\", \"North Macedonia\", \"Netherlands\", \"Estonia\", \"Italy\", \"Romania\", \"France\", \"Samoa\", \"T\\u00fcrkiye\", \"Seychelles\", \"South Africa\", \"Hungary\", \"Colombia\", \"Spain\", \"Czechia\", \"Republic of Moldova\", \"Slovenia\", \"Georgia\", \"Saudi Arabia\", \"Iceland\", \"Lithuania\", \"Burkina Faso\", \"Latvia\", \"Sweden\", \"Denmark\", \"New Zealand\", \"Monaco\", \"Morocco\", \"Germany\", \"Albania\", \"Chile\", \"India\", \"Palestine\", \"Belgium\", \"United Kingdom of Great Britain and Northern Ireland\", \"Portugal\", \"Qatar\", \"Uzbekistan\", \"Andorra\", \"Kyrgyzstan\", \"China, Macao Special Administrative Region\", \"Panama\", \"Costa Rica\", \"Canada\", \"Bahrain\", \"Mexico\", \"Slovakia\", \"Lebanon\", \"Ukraine\", \"Cuba\", \"Oman\", \"Australia\", \"Switzerland\", \"Finland\", \"Belarus\", \"Norway\", \"Jordan\", \"Bosnia and Herzegovina\", \"Iran (Islamic Republic of)\", \"Luxembourg\", \"Armenia\", \"Belize\", \"Ghana\", \"Dominican Republic\", \"Benin\", \"Israel\", \"British Virgin Islands\", \"Uruguay\", \"Botswana\", \"Philippines\", \"Mauritius\", \"Sri Lanka\", \"Trinidad and Tobago\", \"Turks and Caicos Islands\"], \"showscale\": false, \"type\": \"choropleth\", \"z\": [15.04, 30.39, 30.1, 27.5, 30.13, 11.17, 30.6, 35.94, 20.07, 24.16, 15.15, 19.64, 24.91, 20.61, 19.34, 28.12, 23.89, 29.27, 25.55, 6.38, 15.8, 19.81, 18.71, 21.57, 23.91, 21.46, 25.47, 25.01, 28.14, 19.58, 22.78, 17.04, 25.77, 20.68, 19.36, 28.17, 23.99, 22.74, null, 28.9, 35.14, 18.54, 20.51, 30.69, 15.3, 18.6, 22.26, 27.72, 18.93, 32.79, 7.45, 18.33, 8.93, 15.23, 15.72, 26.19, 15.78, 24.34, 21.31, 28.15, 25.66, 12.27, 39.47, 20.68, 25.33, 28.21, 34.61, 22.97, 26.85, 23.96, 36.84, 19.78, 17.72, 18.39, 16.72, 13.51, 21.76, 27.18, 37.26, 18.57, 19.74, 26.27, 24.75, 24.47, 32.34, 16.13]}, {\"colorbar\": {\"title\": {\"text\": \"Value\"}}, \"colorscale\": [[0.0, \"#0d0887\"], [0.1111111111111111, \"#46039f\"], [0.2222222222222222, \"#7201a8\"], [0.3333333333333333, \"#9c179e\"], [0.4444444444444444, \"#bd3786\"], [0.5555555555555556, \"#d8576b\"], [0.6666666666666666, \"#ed7953\"], [0.7777777777777778, \"#fb9f3a\"], [0.8888888888888888, \"#fdca26\"], [1.0, \"#f0f921\"]], \"geo\": \"geo6\", \"locationmode\": \"country names\", \"locations\": [\"Republic of Korea\", \"Serbia\", \"Algeria\", \"Tunisia\", \"Azerbaijan\", \"Malaysia\", \"Mongolia\", \"Madagascar\", \"Seychelles\", \"Republic of Moldova\", \"Slovenia\", \"Georgia\", \"Saudi Arabia\", \"Burkina Faso\", \"Sweden\", \"Monaco\", \"Morocco\", \"Albania\", \"Chile\", \"India\", \"Palestine\", \"Qatar\", \"Andorra\", \"Kyrgyzstan\", \"China, Macao Special Administrative Region\", \"Bahrain\", \"Slovakia\", \"Lebanon\", \"Thailand\", \"Australia\", \"Finland\", \"Belarus\", \"Jordan\", \"Bosnia and Herzegovina\", \"Iran (Islamic Republic of)\", \"Luxembourg\", \"Sint Maarten (Dutch part)\", \"Armenia\", \"Belize\", \"Ghana\", \"Rwanda\", \"Turkmenistan\", \"British Virgin Islands\", \"Egypt\", \"Syrian Arab Republic\", \"Marshall Islands\", \"Sri Lanka\", \"Trinidad and Tobago\"], \"showscale\": true, \"type\": \"choropleth\", \"z\": [30.42, 29.82, 29.89, 37.88, 25.29, 40.23, 18.65, 23.52, 26.25, 23.31, 29.53, 19.64, 28.07, 25.34, 28.99, null, 27.23, 20.81, 21.38, 29.33, 17.03, 17.83, 28.18, 18.94, 9.02, 16.36, 21.41, 28.44, 29.04, 19.15, 29.4, 31.95, 27.16, 24.52, 35.02, 22.88, 5.56, 18.39, 23.59, 14.28, 31.03, 39.57, 35.19, 16.88, 32.5, 1.29, 24.68, 35.35]}],                        {\"annotations\": [{\"font\": {\"size\": 16}, \"showarrow\": false, \"text\": \"2017\", \"x\": 0.225, \"xanchor\": \"center\", \"xref\": \"paper\", \"y\": 1.0, \"yanchor\": \"bottom\", \"yref\": \"paper\"}, {\"font\": {\"size\": 16}, \"showarrow\": false, \"text\": \"2018\", \"x\": 0.775, \"xanchor\": \"center\", \"xref\": \"paper\", \"y\": 1.0, \"yanchor\": \"bottom\", \"yref\": \"paper\"}, {\"font\": {\"size\": 16}, \"showarrow\": false, \"text\": \"2019\", \"x\": 0.225, \"xanchor\": \"center\", \"xref\": \"paper\", \"y\": 0.6111111111111112, \"yanchor\": \"bottom\", \"yref\": \"paper\"}, {\"font\": {\"size\": 16}, \"showarrow\": false, \"text\": \"2020\", \"x\": 0.775, \"xanchor\": \"center\", \"xref\": \"paper\", \"y\": 0.6111111111111112, \"yanchor\": \"bottom\", \"yref\": \"paper\"}, {\"font\": {\"size\": 16}, \"showarrow\": false, \"text\": \"2021\", \"x\": 0.225, \"xanchor\": \"center\", \"xref\": \"paper\", \"y\": 0.22222222222222224, \"yanchor\": \"bottom\", \"yref\": \"paper\"}, {\"font\": {\"size\": 16}, \"showarrow\": false, \"text\": \"2022\", \"x\": 0.775, \"xanchor\": \"center\", \"xref\": \"paper\", \"y\": 0.22222222222222224, \"yanchor\": \"bottom\", \"yref\": \"paper\"}], \"geo\": {\"domain\": {\"x\": [0.0, 0.45], \"y\": [0.7777777777777778, 1.0]}}, \"geo2\": {\"domain\": {\"x\": [0.55, 1.0], \"y\": [0.7777777777777778, 1.0]}}, \"geo3\": {\"domain\": {\"x\": [0.0, 0.45], \"y\": [0.3888888888888889, 0.6111111111111112]}}, \"geo4\": {\"domain\": {\"x\": [0.55, 1.0], \"y\": [0.3888888888888889, 0.6111111111111112]}}, \"geo5\": {\"domain\": {\"x\": [0.0, 0.45], \"y\": [0.0, 0.22222222222222224]}}, \"geo6\": {\"domain\": {\"x\": [0.55, 1.0], \"y\": [0.0, 0.22222222222222224]}}, \"height\": 1800, \"template\": {\"data\": {\"bar\": [{\"error_x\": {\"color\": \"#2a3f5f\"}, \"error_y\": {\"color\": \"#2a3f5f\"}, \"marker\": {\"line\": {\"color\": \"#E5ECF6\", \"width\": 0.5}}, \"type\": \"bar\"}], \"barpolar\": [{\"marker\": {\"line\": {\"color\": \"#E5ECF6\", \"width\": 0.5}}, \"type\": \"barpolar\"}], \"carpet\": [{\"aaxis\": {\"endlinecolor\": \"#2a3f5f\", \"gridcolor\": \"white\", \"linecolor\": \"white\", \"minorgridcolor\": \"white\", \"startlinecolor\": \"#2a3f5f\"}, \"baxis\": {\"endlinecolor\": \"#2a3f5f\", \"gridcolor\": \"white\", \"linecolor\": \"white\", \"minorgridcolor\": \"white\", \"startlinecolor\": \"#2a3f5f\"}, \"type\": \"carpet\"}], \"choropleth\": [{\"colorbar\": {\"outlinewidth\": 0, \"ticks\": \"\"}, \"type\": \"choropleth\"}], \"contour\": [{\"colorbar\": {\"outlinewidth\": 0, \"ticks\": \"\"}, \"colorscale\": [[0.0, \"#0d0887\"], [0.1111111111111111, \"#46039f\"], [0.2222222222222222, \"#7201a8\"], [0.3333333333333333, \"#9c179e\"], [0.4444444444444444, \"#bd3786\"], [0.5555555555555556, \"#d8576b\"], [0.6666666666666666, \"#ed7953\"], [0.7777777777777778, \"#fb9f3a\"], [0.8888888888888888, \"#fdca26\"], [1.0, \"#f0f921\"]], \"type\": \"contour\"}], \"contourcarpet\": [{\"colorbar\": {\"outlinewidth\": 0, \"ticks\": \"\"}, \"type\": \"contourcarpet\"}], \"heatmap\": [{\"colorbar\": {\"outlinewidth\": 0, \"ticks\": \"\"}, \"colorscale\": [[0.0, \"#0d0887\"], [0.1111111111111111, \"#46039f\"], [0.2222222222222222, \"#7201a8\"], [0.3333333333333333, \"#9c179e\"], [0.4444444444444444, \"#bd3786\"], [0.5555555555555556, \"#d8576b\"], [0.6666666666666666, \"#ed7953\"], [0.7777777777777778, \"#fb9f3a\"], [0.8888888888888888, \"#fdca26\"], [1.0, \"#f0f921\"]], \"type\": \"heatmap\"}], \"heatmapgl\": [{\"colorbar\": {\"outlinewidth\": 0, \"ticks\": \"\"}, \"colorscale\": [[0.0, \"#0d0887\"], [0.1111111111111111, \"#46039f\"], [0.2222222222222222, \"#7201a8\"], [0.3333333333333333, \"#9c179e\"], [0.4444444444444444, \"#bd3786\"], [0.5555555555555556, \"#d8576b\"], [0.6666666666666666, \"#ed7953\"], [0.7777777777777778, \"#fb9f3a\"], [0.8888888888888888, \"#fdca26\"], [1.0, \"#f0f921\"]], \"type\": \"heatmapgl\"}], \"histogram\": [{\"marker\": {\"colorbar\": {\"outlinewidth\": 0, \"ticks\": \"\"}}, \"type\": \"histogram\"}], \"histogram2d\": [{\"colorbar\": {\"outlinewidth\": 0, \"ticks\": \"\"}, \"colorscale\": [[0.0, \"#0d0887\"], [0.1111111111111111, \"#46039f\"], [0.2222222222222222, \"#7201a8\"], [0.3333333333333333, \"#9c179e\"], [0.4444444444444444, \"#bd3786\"], [0.5555555555555556, \"#d8576b\"], [0.6666666666666666, \"#ed7953\"], [0.7777777777777778, \"#fb9f3a\"], [0.8888888888888888, \"#fdca26\"], [1.0, \"#f0f921\"]], \"type\": \"histogram2d\"}], \"histogram2dcontour\": [{\"colorbar\": {\"outlinewidth\": 0, \"ticks\": \"\"}, \"colorscale\": [[0.0, \"#0d0887\"], [0.1111111111111111, \"#46039f\"], [0.2222222222222222, \"#7201a8\"], [0.3333333333333333, \"#9c179e\"], [0.4444444444444444, \"#bd3786\"], [0.5555555555555556, \"#d8576b\"], [0.6666666666666666, \"#ed7953\"], [0.7777777777777778, \"#fb9f3a\"], [0.8888888888888888, \"#fdca26\"], [1.0, \"#f0f921\"]], \"type\": \"histogram2dcontour\"}], \"mesh3d\": [{\"colorbar\": {\"outlinewidth\": 0, \"ticks\": \"\"}, \"type\": \"mesh3d\"}], \"parcoords\": [{\"line\": {\"colorbar\": {\"outlinewidth\": 0, \"ticks\": \"\"}}, \"type\": \"parcoords\"}], \"pie\": [{\"automargin\": true, \"type\": \"pie\"}], \"scatter\": [{\"marker\": {\"colorbar\": {\"outlinewidth\": 0, \"ticks\": \"\"}}, \"type\": \"scatter\"}], \"scatter3d\": [{\"line\": {\"colorbar\": {\"outlinewidth\": 0, \"ticks\": \"\"}}, \"marker\": {\"colorbar\": {\"outlinewidth\": 0, \"ticks\": \"\"}}, \"type\": \"scatter3d\"}], \"scattercarpet\": [{\"marker\": {\"colorbar\": {\"outlinewidth\": 0, \"ticks\": \"\"}}, \"type\": \"scattercarpet\"}], \"scattergeo\": [{\"marker\": {\"colorbar\": {\"outlinewidth\": 0, \"ticks\": \"\"}}, \"type\": \"scattergeo\"}], \"scattergl\": [{\"marker\": {\"colorbar\": {\"outlinewidth\": 0, \"ticks\": \"\"}}, \"type\": \"scattergl\"}], \"scattermapbox\": [{\"marker\": {\"colorbar\": {\"outlinewidth\": 0, \"ticks\": \"\"}}, \"type\": \"scattermapbox\"}], \"scatterpolar\": [{\"marker\": {\"colorbar\": {\"outlinewidth\": 0, \"ticks\": \"\"}}, \"type\": \"scatterpolar\"}], \"scatterpolargl\": [{\"marker\": {\"colorbar\": {\"outlinewidth\": 0, \"ticks\": \"\"}}, \"type\": \"scatterpolargl\"}], \"scatterternary\": [{\"marker\": {\"colorbar\": {\"outlinewidth\": 0, \"ticks\": \"\"}}, \"type\": \"scatterternary\"}], \"surface\": [{\"colorbar\": {\"outlinewidth\": 0, \"ticks\": \"\"}, \"colorscale\": [[0.0, \"#0d0887\"], [0.1111111111111111, \"#46039f\"], [0.2222222222222222, \"#7201a8\"], [0.3333333333333333, \"#9c179e\"], [0.4444444444444444, \"#bd3786\"], [0.5555555555555556, \"#d8576b\"], [0.6666666666666666, \"#ed7953\"], [0.7777777777777778, \"#fb9f3a\"], [0.8888888888888888, \"#fdca26\"], [1.0, \"#f0f921\"]], \"type\": \"surface\"}], \"table\": [{\"cells\": {\"fill\": {\"color\": \"#EBF0F8\"}, \"line\": {\"color\": \"white\"}}, \"header\": {\"fill\": {\"color\": \"#C8D4E3\"}, \"line\": {\"color\": \"white\"}}, \"type\": \"table\"}]}, \"layout\": {\"annotationdefaults\": {\"arrowcolor\": \"#2a3f5f\", \"arrowhead\": 0, \"arrowwidth\": 1}, \"autotypenumbers\": \"strict\", \"coloraxis\": {\"colorbar\": {\"outlinewidth\": 0, \"ticks\": \"\"}}, \"colorscale\": {\"diverging\": [[0, \"#8e0152\"], [0.1, \"#c51b7d\"], [0.2, \"#de77ae\"], [0.3, \"#f1b6da\"], [0.4, \"#fde0ef\"], [0.5, \"#f7f7f7\"], [0.6, \"#e6f5d0\"], [0.7, \"#b8e186\"], [0.8, \"#7fbc41\"], [0.9, \"#4d9221\"], [1, \"#276419\"]], \"sequential\": [[0.0, \"#0d0887\"], [0.1111111111111111, \"#46039f\"], [0.2222222222222222, \"#7201a8\"], [0.3333333333333333, \"#9c179e\"], [0.4444444444444444, \"#bd3786\"], [0.5555555555555556, \"#d8576b\"], [0.6666666666666666, \"#ed7953\"], [0.7777777777777778, \"#fb9f3a\"], [0.8888888888888888, \"#fdca26\"], [1.0, \"#f0f921\"]], \"sequentialminus\": [[0.0, \"#0d0887\"], [0.1111111111111111, \"#46039f\"], [0.2222222222222222, \"#7201a8\"], [0.3333333333333333, \"#9c179e\"], [0.4444444444444444, \"#bd3786\"], [0.5555555555555556, \"#d8576b\"], [0.6666666666666666, \"#ed7953\"], [0.7777777777777778, \"#fb9f3a\"], [0.8888888888888888, \"#fdca26\"], [1.0, \"#f0f921\"]]}, \"colorway\": [\"#636efa\", \"#EF553B\", \"#00cc96\", \"#ab63fa\", \"#FFA15A\", \"#19d3f3\", \"#FF6692\", \"#B6E880\", \"#FF97FF\", \"#FECB52\"], \"font\": {\"color\": \"#2a3f5f\"}, \"geo\": {\"bgcolor\": \"white\", \"lakecolor\": \"white\", \"landcolor\": \"#E5ECF6\", \"showlakes\": true, \"showland\": true, \"subunitcolor\": \"white\"}, \"hoverlabel\": {\"align\": \"left\"}, \"hovermode\": \"closest\", \"mapbox\": {\"style\": \"light\"}, \"paper_bgcolor\": \"white\", \"plot_bgcolor\": \"#E5ECF6\", \"polar\": {\"angularaxis\": {\"gridcolor\": \"white\", \"linecolor\": \"white\", \"ticks\": \"\"}, \"bgcolor\": \"#E5ECF6\", \"radialaxis\": {\"gridcolor\": \"white\", \"linecolor\": \"white\", \"ticks\": \"\"}}, \"scene\": {\"xaxis\": {\"backgroundcolor\": \"#E5ECF6\", \"gridcolor\": \"white\", \"gridwidth\": 2, \"linecolor\": \"white\", \"showbackground\": true, \"ticks\": \"\", \"zerolinecolor\": \"white\"}, \"yaxis\": {\"backgroundcolor\": \"#E5ECF6\", \"gridcolor\": \"white\", \"gridwidth\": 2, \"linecolor\": \"white\", \"showbackground\": true, \"ticks\": \"\", \"zerolinecolor\": \"white\"}, \"zaxis\": {\"backgroundcolor\": \"#E5ECF6\", \"gridcolor\": \"white\", \"gridwidth\": 2, \"linecolor\": \"white\", \"showbackground\": true, \"ticks\": \"\", \"zerolinecolor\": \"white\"}}, \"shapedefaults\": {\"line\": {\"color\": \"#2a3f5f\"}}, \"ternary\": {\"aaxis\": {\"gridcolor\": \"white\", \"linecolor\": \"white\", \"ticks\": \"\"}, \"baxis\": {\"gridcolor\": \"white\", \"linecolor\": \"white\", \"ticks\": \"\"}, \"bgcolor\": \"#E5ECF6\", \"caxis\": {\"gridcolor\": \"white\", \"linecolor\": \"white\", \"ticks\": \"\"}}, \"title\": {\"x\": 0.05}, \"xaxis\": {\"automargin\": true, \"gridcolor\": \"white\", \"linecolor\": \"white\", \"ticks\": \"\", \"title\": {\"standoff\": 15}, \"zerolinecolor\": \"white\", \"zerolinewidth\": 2}, \"yaxis\": {\"automargin\": true, \"gridcolor\": \"white\", \"linecolor\": \"white\", \"ticks\": \"\", \"title\": {\"standoff\": 15}, \"zerolinecolor\": \"white\", \"zerolinewidth\": 2}}}, \"title\": {\"text\": \"Percentage of Graduates from STEM Programmes in Tertiary Education by Country and Year\"}, \"width\": 1000},                        {\"responsive\": true}                    ).then(function(){\n",
       "                            \n",
       "var gd = document.getElementById('ddecf759-f468-4c4d-9a97-e682c8a9892b');\n",
       "var x = new MutationObserver(function (mutations, observer) {{\n",
       "        var display = window.getComputedStyle(gd).display;\n",
       "        if (!display || display === 'none') {{\n",
       "            console.log([gd, 'removed!']);\n",
       "            Plotly.purge(gd);\n",
       "            observer.disconnect();\n",
       "        }}\n",
       "}});\n",
       "\n",
       "// Listen for the removal of the full notebook cells\n",
       "var notebookContainer = gd.closest('#notebook-container');\n",
       "if (notebookContainer) {{\n",
       "    x.observe(notebookContainer, {childList: true});\n",
       "}}\n",
       "\n",
       "// Listen for the clearing of the current output cell\n",
       "var outputEl = gd.closest('.output');\n",
       "if (outputEl) {{\n",
       "    x.observe(outputEl, {childList: true});\n",
       "}}\n",
       "\n",
       "                        })                };                });            </script>        </div>"
      ]
     },
     "metadata": {},
     "output_type": "display_data"
    }
   ],
   "source": [
    "\n",
    "\n",
    "# Get unique years in the data\n",
    "#years = df['Time'].unique()\n",
    "years = [2017, 2018, 2019, 2020, 2021, 2022] # dropped 2023 because of not enough data\n",
    "\n",
    "# Determine the number of rows and columns for the subplot grid\n",
    "num_cols = 2  # Number of columns\n",
    "num_rows = math.ceil(len(years) / num_cols)  # Ceiling division to get number of rows\n",
    "\n",
    "# Create subplots\n",
    "fig = make_subplots(rows=num_rows, cols=num_cols, \n",
    "                    subplot_titles=[str(year) for year in years],\n",
    "                    specs=[[{\"type\": \"choropleth\"}] * num_cols] * num_rows)\n",
    "\n",
    "# Create a map for each year\n",
    "for i, year in enumerate(years):\n",
    "    df_year = df[df['Time'] == year]\n",
    "    choropleth = go.Choropleth(\n",
    "        locations=df_year['Country'],\n",
    "        locationmode=\"country names\",\n",
    "        z=df_year['Value'],\n",
    "        colorscale=\"Plasma\",\n",
    "        colorbar_title=\"Value\",\n",
    "        showscale=False if i != len(years) - 1 else True  # Show color scale only for the last subplot\n",
    "    )\n",
    "    row = i // num_cols + 1\n",
    "    col = i % num_cols + 1\n",
    "    fig.add_trace(choropleth, row=row, col=col)\n",
    "\n",
    "# Update layout\n",
    "fig.update_layout(\n",
    "    title_text=\"Percentage of Graduates from STEM Programmes in Tertiary Education by Country and Year\",\n",
    "    height= 600 * num_rows,  # height based on the number of rows\n",
    "    width= 1000\n",
    ")\n",
    "\n",
    "fig.show()\n"
   ]
  },
  {
   "cell_type": "code",
   "execution_count": null,
   "id": "4a95605e",
   "metadata": {},
   "outputs": [],
   "source": [
    "\n",
    "# Create a choropleth map for 2017\n",
    "fig = px.choropleth(df_17,\n",
    "                    locations=\"Country\",\n",
    "                    locationmode=\"country names\",\n",
    "                    color=\"Value\",\n",
    "                    hover_name=\"Country\",\n",
    "                    color_continuous_scale=px.colors.sequential.Plasma,\n",
    "                    title=\"Percentage Values by Country for 2017\",\n",
    "                    labels={'Value': 'Percentage Value'})\n",
    "\n",
    "fig.show()"
   ]
  },
  {
   "cell_type": "code",
   "execution_count": null,
   "id": "26341a00",
   "metadata": {},
   "outputs": [],
   "source": [
    "years"
   ]
  }
 ],
 "metadata": {
  "kernelspec": {
   "display_name": "Python 3",
   "language": "python",
   "name": "python3"
  },
  "language_info": {
   "codemirror_mode": {
    "name": "ipython",
    "version": 3
   },
   "file_extension": ".py",
   "mimetype": "text/x-python",
   "name": "python",
   "nbconvert_exporter": "python",
   "pygments_lexer": "ipython3",
   "version": "3.8.10"
  }
 },
 "nbformat": 4,
 "nbformat_minor": 5
}
